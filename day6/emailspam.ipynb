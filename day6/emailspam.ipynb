{
 "cells": [
  {
   "cell_type": "code",
   "execution_count": 13,
   "id": "17ab0248",
   "metadata": {},
   "outputs": [],
   "source": [
    "import pandas as pd\n",
    "from sklearn.model_selection import train_test_split\n",
    "from sklearn.feature_extraction.text import CountVectorizer\n",
    "from sklearn.linear_model import LogisticRegression\n",
    "from sklearn.metrics import accuracy_score, confusion_matrix, classification_report"
   ]
  },
  {
   "cell_type": "code",
   "execution_count": 17,
   "id": "6561d9d7",
   "metadata": {},
   "outputs": [],
   "source": [
    "data = {\n",
    "    'message': [\n",
    "        # Original messages (8)\n",
    "        \"Congratulations! You've won a free ticket to Bahamas. Call now!\",\n",
    "        \"Hey, are we still meeting for dinner?\",\n",
    "        \"URGENT! Your account has been suspended. Verify immediately.\",\n",
    "        \"Don't forget the meeting tomorrow at 10AM.\",\n",
    "        \"Win $1000 now!!! Click here to claim your prize.\",\n",
    "        \"Can you send me the report by tonight?\",\n",
    "        \"Get cheap loans now!!! No credit check!\",\n",
    "        \"Let's catch up this weekend.\",\n",
    "\n",
    "        # New Spam Messages (10)\n",
    "        \"Limited time offer! 50% off all products. Buy now!\",\n",
    "        \"You’ve been selected for a $500 Walmart gift card. Reply YES!\",\n",
    "        \"ALERT: Unusual login detected. Secure your account NOW!\",\n",
    "        \"Hot singles in your area! Click to chat instantly.\",\n",
    "        \"Your Netflix subscription expired. Update payment info here.\",\n",
    "        \"FREE iPhone 15 Pro if you complete our survey!\",\n",
    "        \"Warning: Your PC is infected. Download antivirus ASAP!\",\n",
    "        \"Exclusive deal: Rolex watches for 90% off. Limited stock!\",\n",
    "        \"Your tax refund is pending. Confirm your details to claim.\",\n",
    "        \"Last chance: Claim your prize before midnight!\",\n",
    "\n",
    "        # New Ham Messages (10)\n",
    "        \"Mom: Can you pick up milk on your way home?\",\n",
    "        \"Team, the project deadline is extended to Friday.\",\n",
    "        \"Thanks for your help earlier. Really appreciate it!\",\n",
    "        \"Are you free for a quick call at 3PM today?\",\n",
    "        \"Reminder: Dentist appointment tomorrow at 2PM.\",\n",
    "        \"I’ll be late for dinner. Traffic is terrible.\",\n",
    "        \"Did you see the email I sent about the budget report?\",\n",
    "        \"Happy birthday! Let’s celebrate this weekend.\",\n",
    "        \"The Wi-Fi password is ‘HomeNetwork123’.\",\n",
    "        \"Can we reschedule our meeting to next Tuesday?\"\n",
    "    ],\n",
    "    'label': [\n",
    "        'spam', 'ham', 'spam', 'ham', 'spam', 'ham', 'spam', 'ham',\n",
    "        'spam', 'spam', 'spam', 'spam', 'spam', 'spam', 'spam', 'spam', 'spam', 'spam',\n",
    "        'ham', 'ham', 'ham', 'ham', 'ham', 'ham', 'ham', 'ham', 'ham', 'ham'\n",
    "    ]\n",
    "}\n",
    "\n",
    "df = pd.DataFrame(data)"
   ]
  },
  {
   "cell_type": "code",
   "execution_count": 18,
   "id": "b00e8bf8",
   "metadata": {},
   "outputs": [],
   "source": [
    "df['label']=df['label'].map({'ham':0,'spam':1})\n",
    "\n",
    "X_train,X_test,y_train,y_test=train_test_split(df['message'],df['label'],test_size=0.25,random_state=42)\n",
    "\n",
    "vectorizer=CountVectorizer()\n",
    "X_train_vec=vectorizer.fit_transform(X_train)\n",
    "X_test_vec=vectorizer.transform(X_test)"
   ]
  },
  {
   "cell_type": "code",
   "execution_count": 19,
   "id": "c77ca2f4",
   "metadata": {},
   "outputs": [],
   "source": [
    "model=LogisticRegression()\n",
    "model.fit(X_train_vec,y_train)\n",
    "\n",
    "y_pred=model.predict(X_test_vec)\n"
   ]
  },
  {
   "cell_type": "code",
   "execution_count": 20,
   "id": "0eebe408",
   "metadata": {},
   "outputs": [
    {
     "name": "stdout",
     "output_type": "stream",
     "text": [
      "[0 0 1 0 1 1 1]\n"
     ]
    }
   ],
   "source": [
    "print(y_pred)"
   ]
  },
  {
   "cell_type": "code",
   "execution_count": 25,
   "id": "ccea4e9a",
   "metadata": {},
   "outputs": [
    {
     "name": "stdout",
     "output_type": "stream",
     "text": [
      "\n",
      "Accuracy: 0.86\n",
      "\n",
      "confusion_matrix: \n",
      " [[2 0]\n",
      " [1 4]]\n",
      "\n",
      "Classification Report: \n",
      "              precision    recall  f1-score   support\n",
      "\n",
      "           0       0.67      1.00      0.80         2\n",
      "           1       1.00      0.80      0.89         5\n",
      "\n",
      "    accuracy                           0.86         7\n",
      "   macro avg       0.83      0.90      0.84         7\n",
      "weighted avg       0.90      0.86      0.86         7\n",
      "\n"
     ]
    }
   ],
   "source": [
    "#Accuracy\n",
    "acc=accuracy_score(y_test,y_pred)\n",
    "print(f\"\\nAccuracy: {acc:.2f}\")\n",
    "\n",
    "print(\"\\nconfusion_matrix: \\n\",confusion_matrix(y_test,y_pred))\n",
    "\n",
    "#Detailed classification report \n",
    "print(\"\\nClassification Report: \")\n",
    "print(classification_report(y_test,y_pred))"
   ]
  },
  {
   "cell_type": "code",
   "execution_count": 29,
   "id": "0bc20b9c",
   "metadata": {},
   "outputs": [
    {
     "name": "stdout",
     "output_type": "stream",
     "text": [
      "\n",
      "New message prediction:  Spam\n"
     ]
    }
   ],
   "source": [
    "new_message=[\"Hot singles in your area! Click to chat instantly.\"]\n",
    "new_message_vec = vectorizer.transform(new_message)\n",
    "prediction=model.predict(new_message_vec)\n",
    "print(\"\\nNew message prediction: \",\"Spam\" if prediction[0]==1 else \"Ham\")"
   ]
  },
  {
   "cell_type": "code",
   "execution_count": 32,
   "id": "1cd63eef",
   "metadata": {},
   "outputs": [
    {
     "name": "stdout",
     "output_type": "stream",
     "text": [
      "\n",
      "New message prediction:  Ham\n"
     ]
    }
   ],
   "source": [
    "new_message=input(\"Enter mail: \")\n",
    "new_message=list(new_message)\n",
    "newz_message_vec = vectorizer.transform(new_message)\n",
    "prediction=model.predict(new_message_vec)\n",
    "print(\"\\nNew message prediction: \",\"Spam\" if prediction[0]==1 else \"Ham\")"
   ]
  }
 ],
 "metadata": {
  "kernelspec": {
   "display_name": "venv",
   "language": "python",
   "name": "python3"
  },
  "language_info": {
   "codemirror_mode": {
    "name": "ipython",
    "version": 3
   },
   "file_extension": ".py",
   "mimetype": "text/x-python",
   "name": "python",
   "nbconvert_exporter": "python",
   "pygments_lexer": "ipython3",
   "version": "3.12.1"
  }
 },
 "nbformat": 4,
 "nbformat_minor": 5
}
