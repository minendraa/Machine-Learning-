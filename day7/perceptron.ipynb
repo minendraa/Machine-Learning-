{
 "cells": [
  {
   "cell_type": "code",
   "execution_count": 10,
   "id": "5da8ac44",
   "metadata": {},
   "outputs": [],
   "source": [
    "import pandas as pd\n",
    "import numpy as np \n",
    "import matplotlib.pyplot as plt\n",
    "import joblib \n",
    "import seaborn as sns \n",
    "from sklearn.model_selection import train_test_split\n",
    "from sklearn.feature_extraction.text import CountVectorizer\n",
    "from sklearn.linear_model import Perceptron\n",
    "from sklearn.metrics import confusion_matrix,classification_report"
   ]
  },
  {
   "cell_type": "code",
   "execution_count": 11,
   "id": "3e829bfb",
   "metadata": {},
   "outputs": [],
   "source": [
    "df=pd.read_csv(\"SMSSpamCollection\",sep='\\t',header=None,names=['label','message'])"
   ]
  },
  {
   "cell_type": "code",
   "execution_count": 12,
   "id": "01fa66c9",
   "metadata": {},
   "outputs": [],
   "source": [
    "df=pd.DataFrame(df)"
   ]
  },
  {
   "cell_type": "code",
   "execution_count": 13,
   "id": "09377410",
   "metadata": {},
   "outputs": [
    {
     "data": {
      "text/plain": [
       "label\n",
       "ham     4825\n",
       "spam     747\n",
       "Name: count, dtype: int64"
      ]
     },
     "execution_count": 13,
     "metadata": {},
     "output_type": "execute_result"
    }
   ],
   "source": [
    "df['label'].value_counts()"
   ]
  },
  {
   "cell_type": "code",
   "execution_count": 14,
   "id": "94bdacf5",
   "metadata": {},
   "outputs": [
    {
     "data": {
      "text/plain": [
       "['vectorizer.pkl']"
      ]
     },
     "execution_count": 14,
     "metadata": {},
     "output_type": "execute_result"
    }
   ],
   "source": [
    "x=df['message']\n",
    "df['label']=df['label'].map({'ham':0,'spam':1})\n",
    "y=df['label']\n",
    "\n",
    "#X_train,X_test,y_train,y_test=train_test_split(x,y,test_size=0.25,random_state=42)\n",
    "\n",
    "vectorizer=CountVectorizer()\n",
    "# X_train_vec=vectorizer.fit_transform(X_train)\n",
    "# X_test_vec=vectorizer.transform(X_test)\n",
    "x=vectorizer.fit_transform(x)\n",
    "\n",
    "joblib.dump(vectorizer,\"vectorizer.pkl\")"
   ]
  },
  {
   "cell_type": "code",
   "execution_count": 15,
   "id": "e0b37872",
   "metadata": {},
   "outputs": [],
   "source": [
    "#Balancing imbalanced dataset\n",
    "from imblearn.over_sampling import SMOTE\n",
    "\n",
    "smote=SMOTE(sampling_strategy='minority')\n",
    "\n",
    "x,y=smote.fit_resample(x,y)"
   ]
  },
  {
   "cell_type": "code",
   "execution_count": 17,
   "id": "777c6137",
   "metadata": {},
   "outputs": [],
   "source": [
    "X_train,X_test,y_train,y_test=train_test_split(x,y,test_size=0.25,random_state=42)\n"
   ]
  },
  {
   "cell_type": "code",
   "execution_count": 20,
   "id": "b5cb2011",
   "metadata": {},
   "outputs": [
    {
     "name": "stdout",
     "output_type": "stream",
     "text": [
      "[1 0 0 ... 1 0 1]\n"
     ]
    },
    {
     "data": {
      "text/plain": [
       "['modelforperceptron.pkl']"
      ]
     },
     "execution_count": 20,
     "metadata": {},
     "output_type": "execute_result"
    }
   ],
   "source": [
    "model=Perceptron()\n",
    "model.fit(X_train,y_train)\n",
    "\n",
    "y_pred=model.predict(X_test)\n",
    "print(y_pred)\n",
    "\n",
    "joblib.dump(model,\"modelforperceptron.pkl\")\n"
   ]
  },
  {
   "cell_type": "code",
   "execution_count": 19,
   "id": "ce9fbaff",
   "metadata": {},
   "outputs": [
    {
     "name": "stdout",
     "output_type": "stream",
     "text": [
      "\n",
      "confusion_matrix: \n",
      " [[1207   33]\n",
      " [  16 1157]]\n",
      "\n",
      "Classification Report: \n",
      "              precision    recall  f1-score   support\n",
      "\n",
      "           0       0.99      0.97      0.98      1240\n",
      "           1       0.97      0.99      0.98      1173\n",
      "\n",
      "    accuracy                           0.98      2413\n",
      "   macro avg       0.98      0.98      0.98      2413\n",
      "weighted avg       0.98      0.98      0.98      2413\n",
      "\n"
     ]
    }
   ],
   "source": [
    "print(\"\\nconfusion_matrix: \\n\",confusion_matrix(y_test,y_pred))\n",
    "\n",
    "#Detailed classification report \n",
    "print(\"\\nClassification Report: \")\n",
    "print(classification_report(y_test,y_pred))"
   ]
  },
  {
   "cell_type": "markdown",
   "id": "d285feeb",
   "metadata": {},
   "source": []
  },
  {
   "cell_type": "code",
   "execution_count": null,
   "id": "aa1d5dbe",
   "metadata": {},
   "outputs": [],
   "source": []
  }
 ],
 "metadata": {
  "kernelspec": {
   "display_name": "venv",
   "language": "python",
   "name": "python3"
  },
  "language_info": {
   "codemirror_mode": {
    "name": "ipython",
    "version": 3
   },
   "file_extension": ".py",
   "mimetype": "text/x-python",
   "name": "python",
   "nbconvert_exporter": "python",
   "pygments_lexer": "ipython3",
   "version": "3.12.1"
  }
 },
 "nbformat": 4,
 "nbformat_minor": 5
}
