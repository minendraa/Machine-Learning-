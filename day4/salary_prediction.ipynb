{
 "cells": [
  {
   "cell_type": "code",
   "execution_count": 31,
   "id": "f55a78cc",
   "metadata": {},
   "outputs": [],
   "source": [
    "import matplotlib.pyplot as plt\n",
    "import joblib\n",
    "import matplotlib\n",
    "matplotlib.use('Agg')\n",
    "import pandas as pd\n",
    "from sklearn.model_selection import train_test_split"
   ]
  },
  {
   "cell_type": "code",
   "execution_count": 19,
   "id": "3ca3c076",
   "metadata": {},
   "outputs": [],
   "source": [
    "df=pd.read_csv(\"salary_data.csv\")"
   ]
  },
  {
   "cell_type": "code",
   "execution_count": 20,
   "id": "5ec553cc",
   "metadata": {},
   "outputs": [
    {
     "data": {
      "text/html": [
       "<div>\n",
       "<style scoped>\n",
       "    .dataframe tbody tr th:only-of-type {\n",
       "        vertical-align: middle;\n",
       "    }\n",
       "\n",
       "    .dataframe tbody tr th {\n",
       "        vertical-align: top;\n",
       "    }\n",
       "\n",
       "    .dataframe thead th {\n",
       "        text-align: right;\n",
       "    }\n",
       "</style>\n",
       "<table border=\"1\" class=\"dataframe\">\n",
       "  <thead>\n",
       "    <tr style=\"text-align: right;\">\n",
       "      <th></th>\n",
       "      <th>Age</th>\n",
       "      <th>Gender</th>\n",
       "      <th>Education Level</th>\n",
       "      <th>Job Title</th>\n",
       "      <th>Years of Experience</th>\n",
       "      <th>Salary</th>\n",
       "    </tr>\n",
       "  </thead>\n",
       "  <tbody>\n",
       "    <tr>\n",
       "      <th>0</th>\n",
       "      <td>32.0</td>\n",
       "      <td>Male</td>\n",
       "      <td>Bachelor's</td>\n",
       "      <td>Software Engineer</td>\n",
       "      <td>5.0</td>\n",
       "      <td>90000.0</td>\n",
       "    </tr>\n",
       "    <tr>\n",
       "      <th>1</th>\n",
       "      <td>28.0</td>\n",
       "      <td>Female</td>\n",
       "      <td>Master's</td>\n",
       "      <td>Data Analyst</td>\n",
       "      <td>3.0</td>\n",
       "      <td>65000.0</td>\n",
       "    </tr>\n",
       "  </tbody>\n",
       "</table>\n",
       "</div>"
      ],
      "text/plain": [
       "    Age  Gender Education Level          Job Title  Years of Experience  \\\n",
       "0  32.0    Male      Bachelor's  Software Engineer                  5.0   \n",
       "1  28.0  Female        Master's       Data Analyst                  3.0   \n",
       "\n",
       "    Salary  \n",
       "0  90000.0  \n",
       "1  65000.0  "
      ]
     },
     "execution_count": 20,
     "metadata": {},
     "output_type": "execute_result"
    }
   ],
   "source": [
    "df.head(2)"
   ]
  },
  {
   "cell_type": "code",
   "execution_count": 21,
   "id": "c28f4fc1",
   "metadata": {},
   "outputs": [
    {
     "data": {
      "text/plain": [
       "Age                    2\n",
       "Gender                 2\n",
       "Education Level        3\n",
       "Job Title              2\n",
       "Years of Experience    3\n",
       "Salary                 5\n",
       "dtype: int64"
      ]
     },
     "execution_count": 21,
     "metadata": {},
     "output_type": "execute_result"
    }
   ],
   "source": [
    "df.isna().sum()"
   ]
  },
  {
   "cell_type": "code",
   "execution_count": 22,
   "id": "a22ed0a6",
   "metadata": {},
   "outputs": [],
   "source": [
    "df['Age']=df['Age'].fillna(df['Age'].mean())\n",
    "df['Salary']=df['Salary'].fillna(df['Salary'].mean())\n",
    "df.dropna(subset=['Years of Experience'],inplace=True)\n",
    "df.dropna(subset=['Education Level'],inplace=True)"
   ]
  },
  {
   "cell_type": "code",
   "execution_count": 23,
   "id": "99dc57cc",
   "metadata": {},
   "outputs": [
    {
     "data": {
      "text/plain": [
       "(6700, 6)"
      ]
     },
     "execution_count": 23,
     "metadata": {},
     "output_type": "execute_result"
    }
   ],
   "source": [
    "df.shape"
   ]
  },
  {
   "cell_type": "code",
   "execution_count": 24,
   "id": "494a1ef8",
   "metadata": {},
   "outputs": [
    {
     "data": {
      "text/plain": [
       "Education Level\n",
       "Bachelor's Degree    2266\n",
       "Master's Degree      1573\n",
       "PhD                  1368\n",
       "Bachelor's            756\n",
       "High School           448\n",
       "Master's              288\n",
       "phD                     1\n",
       "Name: count, dtype: int64"
      ]
     },
     "execution_count": 24,
     "metadata": {},
     "output_type": "execute_result"
    }
   ],
   "source": [
    "df['Education Level'].value_counts()"
   ]
  },
  {
   "cell_type": "code",
   "execution_count": 25,
   "id": "232eb4fa",
   "metadata": {},
   "outputs": [],
   "source": [
    "df['Education Level']=df['Education Level'].replace({'phD':'PHD'})\n",
    "df['Education Level']=df['Education Level'].replace({'PhD':'PHD'})\n",
    "df['Education Level']=df['Education Level'].replace({\"Bachelor's\":\"Bachelor's Degree\"})\n",
    "df['Education Level']=df['Education Level'].replace({\"Master's\":\"Master's Degree\"})"
   ]
  },
  {
   "cell_type": "code",
   "execution_count": 26,
   "id": "96fa5792",
   "metadata": {},
   "outputs": [
    {
     "name": "stdout",
     "output_type": "stream",
     "text": [
      "['Female' 'Male' 'Other']\n",
      "[\"Bachelor's Degree\" 'High School' \"Master's Degree\" 'PHD']\n",
      "['Account Manager' 'Accountant' 'Administrative Assistant'\n",
      " 'Back end Developer' 'Business Analyst' 'Business Development Manager'\n",
      " 'Business Intelligence Analyst' 'CEO' 'Chief Data Officer'\n",
      " 'Chief Technology Officer' 'Content Marketing Manager' 'Copywriter'\n",
      " 'Creative Director' 'Customer Service Manager' 'Customer Service Rep'\n",
      " 'Customer Service Representative' 'Customer Success Manager'\n",
      " 'Customer Success Rep' 'Data Analyst' 'Data Entry Clerk' 'Data Scientist'\n",
      " 'Delivery Driver' 'Digital Content Producer' 'Digital Marketing Manager'\n",
      " 'Digital Marketing Specialist' 'Director'\n",
      " 'Director of Business Development' 'Director of Data Science'\n",
      " 'Director of Engineering' 'Director of Finance' 'Director of HR'\n",
      " 'Director of Human Capital' 'Director of Human Resources'\n",
      " 'Director of Marketing' 'Director of Operations'\n",
      " 'Director of Product Management' 'Director of Sales'\n",
      " 'Director of Sales and Marketing' 'Event Coordinator' 'Financial Advisor'\n",
      " 'Financial Analyst' 'Financial Manager' 'Front End Developer'\n",
      " 'Front end Developer' 'Full Stack Engineer' 'Graphic Designer'\n",
      " 'HR Generalist' 'HR Manager' 'Help Desk Analyst'\n",
      " 'Human Resources Coordinator' 'Human Resources Director'\n",
      " 'Human Resources Manager' 'IT Manager' 'IT Support'\n",
      " 'IT Support Specialist' 'Junior Account Manager' 'Junior Accountant'\n",
      " 'Junior Advertising Coordinator' 'Junior Business Analyst'\n",
      " 'Junior Business Development Associate'\n",
      " 'Junior Business Operations Analyst' 'Junior Copywriter'\n",
      " 'Junior Customer Support Specialist' 'Junior Data Analyst'\n",
      " 'Junior Data Scientist' 'Junior Designer' 'Junior Developer'\n",
      " 'Junior Financial Advisor' 'Junior Financial Analyst'\n",
      " 'Junior HR Coordinator' 'Junior HR Generalist' 'Junior Marketing Analyst'\n",
      " 'Junior Marketing Coordinator' 'Junior Marketing Manager'\n",
      " 'Junior Marketing Specialist' 'Junior Operations Analyst'\n",
      " 'Junior Operations Coordinator' 'Junior Operations Manager'\n",
      " 'Junior Product Manager' 'Junior Project Manager' 'Junior Recruiter'\n",
      " 'Junior Research Scientist' 'Junior Sales Associate'\n",
      " 'Junior Sales Representative' 'Junior Social Media Manager'\n",
      " 'Junior Social Media Specialist' 'Junior Software Developer'\n",
      " 'Junior Software Engineer' 'Junior UX Designer' 'Junior Web Designer'\n",
      " 'Junior Web Developer' 'Juniour HR Coordinator' 'Juniour HR Generalist'\n",
      " 'Marketing Analyst' 'Marketing Coordinator' 'Marketing Director'\n",
      " 'Marketing Manager' 'Marketing Specialist' 'Network Engineer'\n",
      " 'Office Manager' 'Operations Analyst' 'Operations Director'\n",
      " 'Operations Manager' 'Principal Engineer' 'Principal Scientist'\n",
      " 'Product Designer' 'Product Manager' 'Product Marketing Manager'\n",
      " 'Project Engineer' 'Project Manager' 'Public Relations Manager'\n",
      " 'Receptionist' 'Recruiter' 'Research Director' 'Research Scientist'\n",
      " 'Sales Associate' 'Sales Director' 'Sales Executive' 'Sales Manager'\n",
      " 'Sales Operations Manager' 'Sales Representative'\n",
      " 'Senior Account Executive' 'Senior Account Manager' 'Senior Accountant'\n",
      " 'Senior Business Analyst' 'Senior Business Development Manager'\n",
      " 'Senior Consultant' 'Senior Data Analyst' 'Senior Data Engineer'\n",
      " 'Senior Data Scientist' 'Senior Engineer' 'Senior Financial Advisor'\n",
      " 'Senior Financial Analyst' 'Senior Financial Manager'\n",
      " 'Senior Graphic Designer' 'Senior HR Generalist' 'Senior HR Manager'\n",
      " 'Senior HR Specialist' 'Senior Human Resources Coordinator'\n",
      " 'Senior Human Resources Manager' 'Senior Human Resources Specialist'\n",
      " 'Senior IT Consultant' 'Senior IT Project Manager'\n",
      " 'Senior IT Support Specialist' 'Senior Manager'\n",
      " 'Senior Marketing Analyst' 'Senior Marketing Coordinator'\n",
      " 'Senior Marketing Director' 'Senior Marketing Manager'\n",
      " 'Senior Marketing Specialist' 'Senior Operations Analyst'\n",
      " 'Senior Operations Coordinator' 'Senior Operations Manager'\n",
      " 'Senior Product Designer' 'Senior Product Development Manager'\n",
      " 'Senior Product Manager' 'Senior Product Marketing Manager'\n",
      " 'Senior Project Coordinator' 'Senior Project Engineer'\n",
      " 'Senior Project Manager' 'Senior Quality Assurance Analyst'\n",
      " 'Senior Research Scientist' 'Senior Researcher' 'Senior Sales Manager'\n",
      " 'Senior Sales Representative' 'Senior Scientist'\n",
      " 'Senior Software Architect' 'Senior Software Developer'\n",
      " 'Senior Software Engineer' 'Senior Training Specialist'\n",
      " 'Senior UX Designer' 'Social Media Man' 'Social Media Manager'\n",
      " 'Social Media Specialist' 'Software Developer' 'Software Engineer'\n",
      " 'Software Engineer Manager' 'Software Manager' 'Software Project Manager'\n",
      " 'Strategy Consultant' 'Supply Chain Analyst' 'Supply Chain Manager'\n",
      " 'Technical Recruiter' 'Technical Support Specialist' 'Technical Writer'\n",
      " 'Training Specialist' 'UX Designer' 'UX Researcher' 'VP of Finance'\n",
      " 'VP of Operations' 'Web Developer']\n"
     ]
    }
   ],
   "source": [
    "from sklearn.preprocessing import LabelEncoder\n",
    "\n",
    "label_encoder=LabelEncoder()\n",
    "\n",
    "df['Gender']=label_encoder.fit_transform(df['Gender'])\n",
    "print(label_encoder.classes_)\n",
    "\n",
    "df['Education Level']=label_encoder.fit_transform(df['Education Level'])\n",
    "print(label_encoder.classes_)\n"
   ]
  },
  {
   "cell_type": "code",
   "execution_count": 27,
   "id": "da64ef10",
   "metadata": {},
   "outputs": [],
   "source": [
    "df=df.drop(\"Job Title\",axis=1)"
   ]
  },
  {
   "cell_type": "code",
   "execution_count": 28,
   "id": "d703a7e1",
   "metadata": {},
   "outputs": [
    {
     "data": {
      "text/html": [
       "<div>\n",
       "<style scoped>\n",
       "    .dataframe tbody tr th:only-of-type {\n",
       "        vertical-align: middle;\n",
       "    }\n",
       "\n",
       "    .dataframe tbody tr th {\n",
       "        vertical-align: top;\n",
       "    }\n",
       "\n",
       "    .dataframe thead th {\n",
       "        text-align: right;\n",
       "    }\n",
       "</style>\n",
       "<table border=\"1\" class=\"dataframe\">\n",
       "  <thead>\n",
       "    <tr style=\"text-align: right;\">\n",
       "      <th></th>\n",
       "      <th>Age</th>\n",
       "      <th>Gender</th>\n",
       "      <th>Education Level</th>\n",
       "      <th>Years of Experience</th>\n",
       "      <th>Salary</th>\n",
       "    </tr>\n",
       "  </thead>\n",
       "  <tbody>\n",
       "    <tr>\n",
       "      <th>0</th>\n",
       "      <td>32.0</td>\n",
       "      <td>1</td>\n",
       "      <td>0</td>\n",
       "      <td>5.0</td>\n",
       "      <td>90000.0</td>\n",
       "    </tr>\n",
       "  </tbody>\n",
       "</table>\n",
       "</div>"
      ],
      "text/plain": [
       "    Age  Gender  Education Level  Years of Experience   Salary\n",
       "0  32.0       1                0                  5.0  90000.0"
      ]
     },
     "execution_count": 28,
     "metadata": {},
     "output_type": "execute_result"
    }
   ],
   "source": [
    "df.head(1)"
   ]
  },
  {
   "cell_type": "code",
   "execution_count": 29,
   "id": "19a90fff",
   "metadata": {},
   "outputs": [
    {
     "name": "stdout",
     "output_type": "stream",
     "text": [
      "\n",
      "Model training complete: \n",
      "Coefficient (w1): -2040.6865503664976\n",
      "Intercept (b): 102057.1392643619\n"
     ]
    }
   ],
   "source": [
    "from sklearn.linear_model import LinearRegression\n",
    "\n",
    "features=['Age','Gender','Education Level','Years of Experience']\n",
    "X=df[features]\n",
    "y=df['Salary']\n",
    "\n",
    "X_train,X_test,y_train,y_test=train_test_split(X,y,test_size=0.2,random_state=42)\n",
    "model=LinearRegression()\n",
    "model.fit(X_train,y_train)\n",
    "print(\"\\nModel training complete: \")\n",
    "\n",
    "print(f\"Coefficient (w1): {model.coef_[0]}\")\n",
    "print(f\"Intercept (b): {model.intercept_}\")\n",
    "\n"
   ]
  },
  {
   "cell_type": "code",
   "execution_count": 30,
   "id": "95a65186",
   "metadata": {},
   "outputs": [
    {
     "name": "stdout",
     "output_type": "stream",
     "text": [
      "Mean Absolute error:  23660.816072926085\n",
      "Mean Squared Error (MSE): 912000184.38\n",
      "R-squared (R2): 0.67\n"
     ]
    }
   ],
   "source": [
    "from sklearn.metrics import mean_squared_error,r2_score\n",
    "from sklearn import metrics\n",
    "\n",
    "y_pred=model.predict(X_test)\n",
    "\n",
    "mse=mean_squared_error(y_test,y_pred)\n",
    "r2=r2_score(y_test,y_pred)\n",
    "\n",
    "print(f\"Mean Absolute error: \",metrics.mean_absolute_error(y_test,model.predict(X_test)))\n",
    "print(f\"Mean Squared Error (MSE): {mse:.2f}\")\n",
    "print(f\"R-squared (R2): {r2:.2f}\") "
   ]
  },
  {
   "cell_type": "code",
   "execution_count": 32,
   "id": "53c6a1ca",
   "metadata": {},
   "outputs": [
    {
     "data": {
      "text/plain": [
       "['salary_prediction.pkl']"
      ]
     },
     "execution_count": 32,
     "metadata": {},
     "output_type": "execute_result"
    }
   ],
   "source": [
    "joblib.dump(model,'salary_prediction.pkl')"
   ]
  },
  {
   "cell_type": "code",
   "execution_count": 33,
   "id": "740fb53e",
   "metadata": {},
   "outputs": [
    {
     "data": {
      "text/plain": [
       "['salary_encoder.pkl']"
      ]
     },
     "execution_count": 33,
     "metadata": {},
     "output_type": "execute_result"
    }
   ],
   "source": [
    "joblib.dump(label_encoder,'salary_encoder.pkl')"
   ]
  },
  {
   "cell_type": "code",
   "execution_count": null,
   "id": "1c0f2038",
   "metadata": {},
   "outputs": [],
   "source": []
  },
  {
   "cell_type": "markdown",
   "id": "d7cd5819",
   "metadata": {},
   "source": []
  }
 ],
 "metadata": {
  "kernelspec": {
   "display_name": "venv",
   "language": "python",
   "name": "python3"
  },
  "language_info": {
   "codemirror_mode": {
    "name": "ipython",
    "version": 3
   },
   "file_extension": ".py",
   "mimetype": "text/x-python",
   "name": "python",
   "nbconvert_exporter": "python",
   "pygments_lexer": "ipython3",
   "version": "3.12.1"
  }
 },
 "nbformat": 4,
 "nbformat_minor": 5
}
