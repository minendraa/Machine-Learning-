{
 "cells": [
  {
   "cell_type": "code",
   "execution_count": 23,
   "id": "34edc844",
   "metadata": {},
   "outputs": [],
   "source": [
    "import numpy as np\n",
    "import pandas as pd \n",
    "import seaborn as sns\n",
    "import matplotlib.pyplot as plt\n",
    "from sklearn.model_selection import train_test_split\n",
    "from sklearn.linear_model import LinearRegression"
   ]
  },
  {
   "cell_type": "code",
   "execution_count": 24,
   "id": "5343a492",
   "metadata": {},
   "outputs": [
    {
     "data": {
      "text/plain": [
       "<bound method NDFrame.head of       age     sex     bmi  children smoker     region      charges\n",
       "0      19  female  27.900         0    yes  southwest  16884.92400\n",
       "1      18    male  33.770         1     no  southeast   1725.55230\n",
       "2      28    male  33.000         3     no  southeast   4449.46200\n",
       "3      33    male  22.705         0     no  northwest  21984.47061\n",
       "4      32    male  28.880         0     no  northwest   3866.85520\n",
       "...   ...     ...     ...       ...    ...        ...          ...\n",
       "1333   50    male  30.970         3     no  northwest  10600.54830\n",
       "1334   18  female  31.920         0     no  northeast   2205.98080\n",
       "1335   18  female  36.850         0     no  southeast   1629.83350\n",
       "1336   21  female  25.800         0     no  southwest   2007.94500\n",
       "1337   61  female  29.070         0    yes  northwest  29141.36030\n",
       "\n",
       "[1338 rows x 7 columns]>"
      ]
     },
     "execution_count": 24,
     "metadata": {},
     "output_type": "execute_result"
    }
   ],
   "source": [
    "dataset_path='insurance.csv'\n",
    "df=pd.read_csv(dataset_path)\n",
    "df.head"
   ]
  },
  {
   "cell_type": "code",
   "execution_count": 25,
   "id": "9dc30753",
   "metadata": {},
   "outputs": [
    {
     "name": "stdout",
     "output_type": "stream",
     "text": [
      "['no' 'yes']\n",
      "['northeast' 'northwest' 'southeast' 'southwest']\n",
      "['female' 'male']\n"
     ]
    }
   ],
   "source": [
    "from sklearn.preprocessing import LabelEncoder\n",
    "\n",
    "Label_encoder=LabelEncoder()\n",
    "\n",
    "df['smoker']=Label_encoder.fit_transform(df['smoker'])\n",
    "print(Label_encoder.classes_)\n",
    "\n",
    "df['region']=Label_encoder.fit_transform(df['region'])\n",
    "print(Label_encoder.classes_)\n",
    "\n",
    "df['sex']=Label_encoder.fit_transform(df['sex'])\n",
    "print(Label_encoder.classes_)\n"
   ]
  },
  {
   "cell_type": "code",
   "execution_count": 26,
   "id": "0aa06ffd",
   "metadata": {},
   "outputs": [
    {
     "name": "stdout",
     "output_type": "stream",
     "text": [
      "(1338, 5)\n",
      "\n",
      "Training set shape: (1070, 5)\n",
      "\n",
      "Testing set shape: (268, 5)\n"
     ]
    }
   ],
   "source": [
    "X=df[['smoker','age','region','bmi','children']]\n",
    "print(X.shape)\n",
    "y=df['charges']\n",
    "\n",
    "X_train,X_test,y_train,y_test = train_test_split(X,y,test_size=0.2,random_state=42)\n",
    "print(f\"\\nTraining set shape: {X_train.shape}\")\n",
    "print(f\"\\nTesting set shape: {X_test.shape}\")"
   ]
  },
  {
   "cell_type": "code",
   "execution_count": 27,
   "id": "64c25bfc",
   "metadata": {},
   "outputs": [
    {
     "name": "stdout",
     "output_type": "stream",
     "text": [
      "\n",
      "Model training complete: \n",
      "Coefficient (w1): 23646.187562174473\n",
      "Intercept (b): -11955.262408935987\n"
     ]
    }
   ],
   "source": [
    "model=LinearRegression()\n",
    "model.fit(X_train,y_train)\n",
    "print(\"\\nModel training complete: \")\n",
    "\n",
    "print(f\"Coefficient (w1): {model.coef_[0]}\")\n",
    "print(f\"Intercept (b): {model.intercept_}\")"
   ]
  },
  {
   "cell_type": "code",
   "execution_count": 28,
   "id": "9bc96609",
   "metadata": {},
   "outputs": [
    {
     "name": "stdout",
     "output_type": "stream",
     "text": [
      "Mean Absolute error:  4187.322474715378\n",
      "Mean Squared Error (MSE): 33640657.14\n",
      "R-squared (R2): 0.78\n"
     ]
    }
   ],
   "source": [
    "from sklearn.metrics import mean_squared_error,r2_score\n",
    "from sklearn import metrics\n",
    "\n",
    "y_pred=model.predict(X_test)\n",
    "\n",
    "#Calculate metrics\n",
    "mse=mean_squared_error(y_test,y_pred)\n",
    "r2=r2_score(y_test,y_pred)\n",
    "\n",
    "print(f\"Mean Absolute error: \",metrics.mean_absolute_error(y_test,model.predict(X_test)))\n",
    "print(f\"Mean Squared Error (MSE): {mse:.2f}\")\n",
    "print(f\"R-squared (R2): {r2:.2f}\") "
   ]
  },
  {
   "cell_type": "code",
   "execution_count": 29,
   "id": "0f7bea9e",
   "metadata": {},
   "outputs": [
    {
     "name": "stdout",
     "output_type": "stream",
     "text": [
      "\n",
      "Predicted charges for given input: $34292.54\n"
     ]
    },
    {
     "name": "stderr",
     "output_type": "stream",
     "text": [
      "d:\\TechAxis\\week56\\venv\\Lib\\site-packages\\sklearn\\utils\\validation.py:2749: UserWarning: X does not have valid feature names, but LinearRegression was fitted with feature names\n",
      "  warnings.warn(\n"
     ]
    }
   ],
   "source": [
    "#'smoker','age','region','bmi','children'\n",
    "# inputt = np.array([['0','19','3','25.4','0']])\n",
    "predicted_smoker = model.predict([[1,66,2,18.4,0]])\n",
    "print(f\"\\nPredicted charges for given input: ${predicted_smoker[0]:.2f}\")\n",
    "\n"
   ]
  },
  {
   "cell_type": "code",
   "execution_count": 41,
   "id": "46f932e4",
   "metadata": {},
   "outputs": [
    {
     "data": {
      "text/plain": [
       "['Charge_prediction.pkl']"
      ]
     },
     "execution_count": 41,
     "metadata": {},
     "output_type": "execute_result"
    }
   ],
   "source": [
    "import joblib\n",
    "\n",
    "joblib.dump(model,'Charge_prediction.pkl')"
   ]
  },
  {
   "cell_type": "code",
   "execution_count": 44,
   "id": "5d19fe57",
   "metadata": {},
   "outputs": [],
   "source": [
    "model_path='Charge_prediction.pkl'\n",
    "model=joblib.load(model_path)"
   ]
  },
  {
   "cell_type": "code",
   "execution_count": 56,
   "id": "8b389e8c",
   "metadata": {},
   "outputs": [
    {
     "name": "stdout",
     "output_type": "stream",
     "text": [
      "[22887.59344618]\n"
     ]
    },
    {
     "name": "stderr",
     "output_type": "stream",
     "text": [
      "d:\\TechAxis\\week56\\venv\\Lib\\site-packages\\sklearn\\utils\\validation.py:2749: UserWarning: X does not have valid feature names, but LinearRegression was fitted with feature names\n",
      "  warnings.warn(\n"
     ]
    }
   ],
   "source": [
    "print(model.predict([[1,21,4,20.5,0]]))"
   ]
  },
  {
   "cell_type": "code",
   "execution_count": null,
   "id": "935d0258",
   "metadata": {},
   "outputs": [],
   "source": []
  }
 ],
 "metadata": {
  "kernelspec": {
   "display_name": "venv",
   "language": "python",
   "name": "python3"
  },
  "language_info": {
   "codemirror_mode": {
    "name": "ipython",
    "version": 3
   },
   "file_extension": ".py",
   "mimetype": "text/x-python",
   "name": "python",
   "nbconvert_exporter": "python",
   "pygments_lexer": "ipython3",
   "version": "3.12.1"
  }
 },
 "nbformat": 4,
 "nbformat_minor": 5
}
