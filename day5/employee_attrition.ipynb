{
 "cells": [
  {
   "cell_type": "code",
   "execution_count": 19,
   "id": "28d3dd12",
   "metadata": {},
   "outputs": [],
   "source": [
    "import pandas as pd\n",
    "import numpy as np\n",
    "import matplotlib.pyplot as plt\n",
    "import seaborn as sns \n",
    "from sklearn.model_selection import train_test_split\n",
    "from sklearn.linear_model import LogisticRegression\n",
    "from sklearn.metrics import confusion_matrix,accuracy_score,classification_report"
   ]
  },
  {
   "cell_type": "code",
   "execution_count": 20,
   "id": "f3258d9d",
   "metadata": {},
   "outputs": [],
   "source": [
    "df=pd.read_csv(\"employee.csv\")"
   ]
  },
  {
   "cell_type": "code",
   "execution_count": 21,
   "id": "84c0357e",
   "metadata": {},
   "outputs": [
    {
     "data": {
      "text/html": [
       "<div>\n",
       "<style scoped>\n",
       "    .dataframe tbody tr th:only-of-type {\n",
       "        vertical-align: middle;\n",
       "    }\n",
       "\n",
       "    .dataframe tbody tr th {\n",
       "        vertical-align: top;\n",
       "    }\n",
       "\n",
       "    .dataframe thead th {\n",
       "        text-align: right;\n",
       "    }\n",
       "</style>\n",
       "<table border=\"1\" class=\"dataframe\">\n",
       "  <thead>\n",
       "    <tr style=\"text-align: right;\">\n",
       "      <th></th>\n",
       "      <th>Age</th>\n",
       "      <th>Attrition</th>\n",
       "      <th>BusinessTravel</th>\n",
       "      <th>DailyRate</th>\n",
       "      <th>Department</th>\n",
       "      <th>DistanceFromHome</th>\n",
       "      <th>Education</th>\n",
       "      <th>EducationField</th>\n",
       "      <th>EmployeeCount</th>\n",
       "      <th>EmployeeNumber</th>\n",
       "      <th>...</th>\n",
       "      <th>RelationshipSatisfaction</th>\n",
       "      <th>StandardHours</th>\n",
       "      <th>StockOptionLevel</th>\n",
       "      <th>TotalWorkingYears</th>\n",
       "      <th>TrainingTimesLastYear</th>\n",
       "      <th>WorkLifeBalance</th>\n",
       "      <th>YearsAtCompany</th>\n",
       "      <th>YearsInCurrentRole</th>\n",
       "      <th>YearsSinceLastPromotion</th>\n",
       "      <th>YearsWithCurrManager</th>\n",
       "    </tr>\n",
       "  </thead>\n",
       "  <tbody>\n",
       "    <tr>\n",
       "      <th>0</th>\n",
       "      <td>41</td>\n",
       "      <td>Yes</td>\n",
       "      <td>Travel_Rarely</td>\n",
       "      <td>1102</td>\n",
       "      <td>Sales</td>\n",
       "      <td>1</td>\n",
       "      <td>2</td>\n",
       "      <td>Life Sciences</td>\n",
       "      <td>1</td>\n",
       "      <td>1</td>\n",
       "      <td>...</td>\n",
       "      <td>1</td>\n",
       "      <td>80</td>\n",
       "      <td>0</td>\n",
       "      <td>8</td>\n",
       "      <td>0</td>\n",
       "      <td>1</td>\n",
       "      <td>6</td>\n",
       "      <td>4</td>\n",
       "      <td>0</td>\n",
       "      <td>5</td>\n",
       "    </tr>\n",
       "    <tr>\n",
       "      <th>1</th>\n",
       "      <td>49</td>\n",
       "      <td>No</td>\n",
       "      <td>Travel_Frequently</td>\n",
       "      <td>279</td>\n",
       "      <td>Research &amp; Development</td>\n",
       "      <td>8</td>\n",
       "      <td>1</td>\n",
       "      <td>Life Sciences</td>\n",
       "      <td>1</td>\n",
       "      <td>2</td>\n",
       "      <td>...</td>\n",
       "      <td>4</td>\n",
       "      <td>80</td>\n",
       "      <td>1</td>\n",
       "      <td>10</td>\n",
       "      <td>3</td>\n",
       "      <td>3</td>\n",
       "      <td>10</td>\n",
       "      <td>7</td>\n",
       "      <td>1</td>\n",
       "      <td>7</td>\n",
       "    </tr>\n",
       "  </tbody>\n",
       "</table>\n",
       "<p>2 rows × 35 columns</p>\n",
       "</div>"
      ],
      "text/plain": [
       "   Age Attrition     BusinessTravel  DailyRate              Department  \\\n",
       "0   41       Yes      Travel_Rarely       1102                   Sales   \n",
       "1   49        No  Travel_Frequently        279  Research & Development   \n",
       "\n",
       "   DistanceFromHome  Education EducationField  EmployeeCount  EmployeeNumber  \\\n",
       "0                 1          2  Life Sciences              1               1   \n",
       "1                 8          1  Life Sciences              1               2   \n",
       "\n",
       "   ...  RelationshipSatisfaction StandardHours  StockOptionLevel  \\\n",
       "0  ...                         1            80                 0   \n",
       "1  ...                         4            80                 1   \n",
       "\n",
       "   TotalWorkingYears  TrainingTimesLastYear WorkLifeBalance  YearsAtCompany  \\\n",
       "0                  8                      0               1               6   \n",
       "1                 10                      3               3              10   \n",
       "\n",
       "  YearsInCurrentRole  YearsSinceLastPromotion  YearsWithCurrManager  \n",
       "0                  4                        0                     5  \n",
       "1                  7                        1                     7  \n",
       "\n",
       "[2 rows x 35 columns]"
      ]
     },
     "execution_count": 21,
     "metadata": {},
     "output_type": "execute_result"
    }
   ],
   "source": [
    "df.head(2)"
   ]
  },
  {
   "cell_type": "code",
   "execution_count": 22,
   "id": "1b109ca0",
   "metadata": {},
   "outputs": [],
   "source": [
    "# from sklearn.preprocessing import LabelEncoder\n",
    "\n",
    "# label_encoder = LabelEncoder()\n",
    "\n",
    "# df['BusinessTravel']=label_encoder.fit_transform(df['BusinessTravel'])\n",
    "# print(label_encoder.classes_)\n",
    "\n",
    "# df['Department']=label_encoder.fit_transform(df['Department'])\n",
    "# print(label_encoder.classes_)\n",
    "\n",
    "# df['EducationField']=label_encoder.fit_transform(df['EducationField'])\n",
    "# print(label_encoder.classes_)\n",
    "\n",
    "# df['Gender']=label_encoder.fit_transform(df['Gender'])\n",
    "# print(label_encoder.classes_)\n",
    "\n",
    "# df['JobRole']=label_encoder.fit_transform(df['JobRole'])\n",
    "# print(label_encoder.classes_)\n",
    "\n",
    "# df['MaritalStatus']=label_encoder.fit_transform(df['MaritalStatus'])\n",
    "# print(label_encoder.classes_)\n",
    "\n",
    "# df['OverTime']=label_encoder.fit_transform(df['OverTime'])\n",
    "# print(label_encoder.classes_)\n",
    "\n",
    "# df['Attrition']=label_encoder.fit_transform(df['Attrition'])\n",
    "# print(label_encoder.classes_)\n"
   ]
  },
  {
   "cell_type": "code",
   "execution_count": 23,
   "id": "5dae7e12",
   "metadata": {},
   "outputs": [
    {
     "data": {
      "text/plain": [
       "['label_encoders.pkl']"
      ]
     },
     "execution_count": 23,
     "metadata": {},
     "output_type": "execute_result"
    }
   ],
   "source": [
    "# In your training script (before saving)\n",
    "from sklearn.preprocessing import LabelEncoder\n",
    "\n",
    "# Create separate label encoders for each column\n",
    "label_encoders = {\n",
    "    'BusinessTravel': LabelEncoder().fit(df['BusinessTravel']),\n",
    "    'Department': LabelEncoder().fit(df['Department']),\n",
    "    'EducationField': LabelEncoder().fit(df['EducationField']),\n",
    "    'Gender': LabelEncoder().fit(df['Gender']),\n",
    "    'JobRole': LabelEncoder().fit(df['JobRole']),\n",
    "    'MaritalStatus': LabelEncoder().fit(df['MaritalStatus']),\n",
    "    'OverTime': LabelEncoder().fit(df['OverTime'])\n",
    "}\n",
    "\n",
    "# Apply transformations\n",
    "df['BusinessTravel'] = label_encoders['BusinessTravel'].transform(df['BusinessTravel'])\n",
    "df['Department'] = label_encoders['Department'].transform(df['Department'])\n",
    "df['EducationField'] = label_encoders['EducationField'].transform(df['EducationField'])\n",
    "df['Gender'] = label_encoders['Gender'].transform(df['Gender'])\n",
    "df['JobRole'] = label_encoders['JobRole'].transform(df['JobRole'])\n",
    "df['MaritalStatus'] = label_encoders['MaritalStatus'].transform(df['MaritalStatus'])\n",
    "df['OverTime'] = label_encoders['OverTime'].transform(df['OverTime'])\n",
    "\n",
    "# Save the label encoders\n",
    "joblib.dump(label_encoders, 'label_encoders.pkl')"
   ]
  },
  {
   "cell_type": "code",
   "execution_count": 24,
   "id": "083070fd",
   "metadata": {},
   "outputs": [
    {
     "data": {
      "text/plain": [
       "Age                         0\n",
       "Attrition                   0\n",
       "BusinessTravel              0\n",
       "DailyRate                   0\n",
       "Department                  0\n",
       "DistanceFromHome            0\n",
       "Education                   0\n",
       "EducationField              0\n",
       "EmployeeCount               0\n",
       "EmployeeNumber              0\n",
       "EnvironmentSatisfaction     0\n",
       "Gender                      0\n",
       "HourlyRate                  0\n",
       "JobInvolvement              0\n",
       "JobLevel                    0\n",
       "JobRole                     0\n",
       "JobSatisfaction             0\n",
       "MaritalStatus               0\n",
       "MonthlyIncome               0\n",
       "MonthlyRate                 0\n",
       "NumCompaniesWorked          0\n",
       "Over18                      0\n",
       "OverTime                    0\n",
       "PercentSalaryHike           0\n",
       "PerformanceRating           0\n",
       "RelationshipSatisfaction    0\n",
       "StandardHours               0\n",
       "StockOptionLevel            0\n",
       "TotalWorkingYears           0\n",
       "TrainingTimesLastYear       0\n",
       "WorkLifeBalance             0\n",
       "YearsAtCompany              0\n",
       "YearsInCurrentRole          0\n",
       "YearsSinceLastPromotion     0\n",
       "YearsWithCurrManager        0\n",
       "dtype: int64"
      ]
     },
     "execution_count": 24,
     "metadata": {},
     "output_type": "execute_result"
    }
   ],
   "source": [
    "df.isnull().sum()\n"
   ]
  },
  {
   "cell_type": "code",
   "execution_count": 25,
   "id": "2dc92957",
   "metadata": {},
   "outputs": [
    {
     "data": {
      "text/plain": [
       "np.int64(0)"
      ]
     },
     "execution_count": 25,
     "metadata": {},
     "output_type": "execute_result"
    }
   ],
   "source": [
    "df.duplicated().sum()"
   ]
  },
  {
   "cell_type": "code",
   "execution_count": 26,
   "id": "078f3647",
   "metadata": {},
   "outputs": [
    {
     "name": "stdout",
     "output_type": "stream",
     "text": [
      "<class 'pandas.core.frame.DataFrame'>\n",
      "RangeIndex: 1470 entries, 0 to 1469\n",
      "Data columns (total 34 columns):\n",
      " #   Column                    Non-Null Count  Dtype \n",
      "---  ------                    --------------  ----- \n",
      " 0   Age                       1470 non-null   int64 \n",
      " 1   Attrition                 1470 non-null   object\n",
      " 2   BusinessTravel            1470 non-null   int64 \n",
      " 3   DailyRate                 1470 non-null   int64 \n",
      " 4   Department                1470 non-null   int64 \n",
      " 5   DistanceFromHome          1470 non-null   int64 \n",
      " 6   Education                 1470 non-null   int64 \n",
      " 7   EducationField            1470 non-null   int64 \n",
      " 8   EmployeeCount             1470 non-null   int64 \n",
      " 9   EmployeeNumber            1470 non-null   int64 \n",
      " 10  EnvironmentSatisfaction   1470 non-null   int64 \n",
      " 11  Gender                    1470 non-null   int64 \n",
      " 12  HourlyRate                1470 non-null   int64 \n",
      " 13  JobInvolvement            1470 non-null   int64 \n",
      " 14  JobLevel                  1470 non-null   int64 \n",
      " 15  JobRole                   1470 non-null   int64 \n",
      " 16  JobSatisfaction           1470 non-null   int64 \n",
      " 17  MaritalStatus             1470 non-null   int64 \n",
      " 18  MonthlyIncome             1470 non-null   int64 \n",
      " 19  MonthlyRate               1470 non-null   int64 \n",
      " 20  NumCompaniesWorked        1470 non-null   int64 \n",
      " 21  OverTime                  1470 non-null   int64 \n",
      " 22  PercentSalaryHike         1470 non-null   int64 \n",
      " 23  PerformanceRating         1470 non-null   int64 \n",
      " 24  RelationshipSatisfaction  1470 non-null   int64 \n",
      " 25  StandardHours             1470 non-null   int64 \n",
      " 26  StockOptionLevel          1470 non-null   int64 \n",
      " 27  TotalWorkingYears         1470 non-null   int64 \n",
      " 28  TrainingTimesLastYear     1470 non-null   int64 \n",
      " 29  WorkLifeBalance           1470 non-null   int64 \n",
      " 30  YearsAtCompany            1470 non-null   int64 \n",
      " 31  YearsInCurrentRole        1470 non-null   int64 \n",
      " 32  YearsSinceLastPromotion   1470 non-null   int64 \n",
      " 33  YearsWithCurrManager      1470 non-null   int64 \n",
      "dtypes: int64(33), object(1)\n",
      "memory usage: 390.6+ KB\n",
      "None\n"
     ]
    }
   ],
   "source": [
    "df.drop('Over18',axis=1,inplace=True)\n",
    "\n",
    "print(df.info())"
   ]
  },
  {
   "cell_type": "code",
   "execution_count": 27,
   "id": "0fa81efc",
   "metadata": {},
   "outputs": [
    {
     "name": "stdout",
     "output_type": "stream",
     "text": [
      "      Age  BusinessTravel  DailyRate  Department  DistanceFromHome  Education  \\\n",
      "0      41               2       1102           2                 1          2   \n",
      "1      49               1        279           1                 8          1   \n",
      "2      37               2       1373           1                 2          2   \n",
      "3      33               1       1392           1                 3          4   \n",
      "4      27               2        591           1                 2          1   \n",
      "...   ...             ...        ...         ...               ...        ...   \n",
      "1465   36               1        884           1                23          2   \n",
      "1466   39               2        613           1                 6          1   \n",
      "1467   27               2        155           1                 4          3   \n",
      "1468   49               1       1023           2                 2          3   \n",
      "1469   34               2        628           1                 8          3   \n",
      "\n",
      "      EducationField  EmployeeCount  EmployeeNumber  EnvironmentSatisfaction  \\\n",
      "0                  1              1               1                        2   \n",
      "1                  1              1               2                        3   \n",
      "2                  4              1               4                        4   \n",
      "3                  1              1               5                        4   \n",
      "4                  3              1               7                        1   \n",
      "...              ...            ...             ...                      ...   \n",
      "1465               3              1            2061                        3   \n",
      "1466               3              1            2062                        4   \n",
      "1467               1              1            2064                        2   \n",
      "1468               3              1            2065                        4   \n",
      "1469               3              1            2068                        2   \n",
      "\n",
      "      ...  RelationshipSatisfaction  StandardHours  StockOptionLevel  \\\n",
      "0     ...                         1             80                 0   \n",
      "1     ...                         4             80                 1   \n",
      "2     ...                         2             80                 0   \n",
      "3     ...                         3             80                 0   \n",
      "4     ...                         4             80                 1   \n",
      "...   ...                       ...            ...               ...   \n",
      "1465  ...                         3             80                 1   \n",
      "1466  ...                         1             80                 1   \n",
      "1467  ...                         2             80                 1   \n",
      "1468  ...                         4             80                 0   \n",
      "1469  ...                         1             80                 0   \n",
      "\n",
      "      TotalWorkingYears  TrainingTimesLastYear  WorkLifeBalance  \\\n",
      "0                     8                      0                1   \n",
      "1                    10                      3                3   \n",
      "2                     7                      3                3   \n",
      "3                     8                      3                3   \n",
      "4                     6                      3                3   \n",
      "...                 ...                    ...              ...   \n",
      "1465                 17                      3                3   \n",
      "1466                  9                      5                3   \n",
      "1467                  6                      0                3   \n",
      "1468                 17                      3                2   \n",
      "1469                  6                      3                4   \n",
      "\n",
      "      YearsAtCompany  YearsInCurrentRole  YearsSinceLastPromotion  \\\n",
      "0                  6                   4                        0   \n",
      "1                 10                   7                        1   \n",
      "2                  0                   0                        0   \n",
      "3                  8                   7                        3   \n",
      "4                  2                   2                        2   \n",
      "...              ...                 ...                      ...   \n",
      "1465               5                   2                        0   \n",
      "1466               7                   7                        1   \n",
      "1467               6                   2                        0   \n",
      "1468               9                   6                        0   \n",
      "1469               4                   3                        1   \n",
      "\n",
      "      YearsWithCurrManager  \n",
      "0                        5  \n",
      "1                        7  \n",
      "2                        0  \n",
      "3                        0  \n",
      "4                        2  \n",
      "...                    ...  \n",
      "1465                     3  \n",
      "1466                     7  \n",
      "1467                     3  \n",
      "1468                     8  \n",
      "1469                     2  \n",
      "\n",
      "[1470 rows x 33 columns]\n",
      "     Attrition\n",
      "0          Yes\n",
      "1           No\n",
      "2          Yes\n",
      "3           No\n",
      "4           No\n",
      "...        ...\n",
      "1465        No\n",
      "1466        No\n",
      "1467        No\n",
      "1468        No\n",
      "1469        No\n",
      "\n",
      "[1470 rows x 1 columns]\n"
     ]
    }
   ],
   "source": [
    "features=['Age','BusinessTravel','DailyRate','Department','DistanceFromHome','Education','EducationField','EmployeeCount','EmployeeNumber','EnvironmentSatisfaction','Gender','HourlyRate','JobInvolvement','JobLevel','JobRole','JobSatisfaction','MaritalStatus','MonthlyIncome','MonthlyRate','NumCompaniesWorked','OverTime','PercentSalaryHike','PerformanceRating','RelationshipSatisfaction','StandardHours','StockOptionLevel','TotalWorkingYears','TrainingTimesLastYear','WorkLifeBalance','YearsAtCompany','YearsInCurrentRole','YearsSinceLastPromotion','YearsWithCurrManager']\n",
    "x=df[features]\n",
    "y=df[['Attrition']]\n",
    "\n",
    "print(x)\n",
    "print(y)\n",
    "\n",
    "x_train,x_test,y_train,y_test=train_test_split(x,y,test_size=0.2,random_state=42)\n"
   ]
  },
  {
   "cell_type": "code",
   "execution_count": 28,
   "id": "0f6db3b0",
   "metadata": {},
   "outputs": [
    {
     "name": "stdout",
     "output_type": "stream",
     "text": [
      "Model training complete\n"
     ]
    },
    {
     "name": "stderr",
     "output_type": "stream",
     "text": [
      "d:\\TechAxis\\week56\\venv\\Lib\\site-packages\\sklearn\\utils\\validation.py:1408: DataConversionWarning: A column-vector y was passed when a 1d array was expected. Please change the shape of y to (n_samples, ), for example using ravel().\n",
      "  y = column_or_1d(y, warn=True)\n"
     ]
    }
   ],
   "source": [
    "model=LogisticRegression(solver='liblinear',max_iter=1000)\n",
    "model.fit(x_train,y_train)\n",
    "print(\"Model training complete\")"
   ]
  },
  {
   "cell_type": "code",
   "execution_count": 29,
   "id": "1c582f1b",
   "metadata": {},
   "outputs": [],
   "source": [
    "y_pred=model.predict(x_test)"
   ]
  },
  {
   "cell_type": "code",
   "execution_count": 30,
   "id": "bd7e7338",
   "metadata": {},
   "outputs": [
    {
     "name": "stdout",
     "output_type": "stream",
     "text": [
      "\n",
      "Accuracy: 0.88\n",
      "\n",
      "Classification Report: \n",
      "              precision    recall  f1-score   support\n",
      "\n",
      "          No       0.89      0.99      0.94       255\n",
      "         Yes       0.78      0.18      0.29        39\n",
      "\n",
      "    accuracy                           0.88       294\n",
      "   macro avg       0.83      0.59      0.61       294\n",
      "weighted avg       0.87      0.88      0.85       294\n",
      "\n"
     ]
    }
   ],
   "source": [
    "#Accuracy\n",
    "acc=accuracy_score(y_test,y_pred)\n",
    "print(f\"\\nAccuracy: {acc:.2f}\")\n",
    "\n",
    "#Detailed classification report \n",
    "print(\"\\nClassification Report: \")\n",
    "print(classification_report(y_test,y_pred))"
   ]
  },
  {
   "cell_type": "code",
   "execution_count": 31,
   "id": "bab1302d-6854-487f-ba3c-d233d46e69d5",
   "metadata": {},
   "outputs": [
    {
     "name": "stdout",
     "output_type": "stream",
     "text": [
      "['Yes']\n"
     ]
    },
    {
     "name": "stderr",
     "output_type": "stream",
     "text": [
      "d:\\TechAxis\\week56\\venv\\Lib\\site-packages\\sklearn\\utils\\validation.py:2739: UserWarning: X does not have valid feature names, but LogisticRegression was fitted with feature names\n",
      "  warnings.warn(\n"
     ]
    }
   ],
   "source": [
    "#'Age','BusinessTravel','DailyRate','Department','DistanceFromHome','Education','EducationField','EmployeeCount','EmployeeNumber','EnvironmentSatisfaction','Gender',\n",
    "#'HourlyRate','JobInvolvement','JobLevel','JobRole','JobSatisfaction','MaritalStatus','MonthlyIncome','MonthlyRate','NumCompaniesWorked','OverTime',\n",
    "#'PercentSalaryHike','PerformanceRating','RelationshipSatisfaction','StandardHours','StockOptionLevel','TotalWorkingYears','TrainingTimesLastYear',\n",
    "# 'WorkLifeBalance','YearsAtCompany','YearsInCurrentRole','YearsSinceLastPromotion','YearsWithCurrManager'\n",
    "\n",
    "Outcome=model.predict([[20,0,500,3,14,1,3,1,15,4,1,10,3,1,4,0,4670,5000,1,1,10,3,2,70,3,1,3,2,1,1,0,1,1]])\n",
    "print(Outcome)"
   ]
  }
 ],
 "metadata": {
  "kernelspec": {
   "display_name": "venv",
   "language": "python",
   "name": "python3"
  },
  "language_info": {
   "codemirror_mode": {
    "name": "ipython",
    "version": 3
   },
   "file_extension": ".py",
   "mimetype": "text/x-python",
   "name": "python",
   "nbconvert_exporter": "python",
   "pygments_lexer": "ipython3",
   "version": "3.12.1"
  }
 },
 "nbformat": 4,
 "nbformat_minor": 5
}
