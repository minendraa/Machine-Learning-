{
 "cells": [
  {
   "cell_type": "code",
   "execution_count": 34,
   "id": "07265a3b",
   "metadata": {},
   "outputs": [],
   "source": [
    "import pandas as pd\n",
    "import numpy as np\n",
    "import matplotlib.pyplot as plt\n",
    "import joblib\n",
    "import seaborn as sns \n",
    "from sklearn.model_selection import train_test_split\n",
    "from sklearn.feature_extraction.text import CountVectorizer\n",
    "from sklearn.linear_model import LogisticRegression\n",
    "from sklearn.metrics import confusion_matrix,accuracy_score,classification_report"
   ]
  },
  {
   "cell_type": "code",
   "execution_count": 35,
   "id": "40c7df58",
   "metadata": {},
   "outputs": [],
   "source": [
    "df=pd.read_csv(\"SMSSpamCollection\",sep='\\t',header=None,names=['label','message'])"
   ]
  },
  {
   "cell_type": "code",
   "execution_count": 36,
   "id": "f33b85b1",
   "metadata": {},
   "outputs": [],
   "source": [
    "df=pd.DataFrame(df)"
   ]
  },
  {
   "cell_type": "code",
   "execution_count": 37,
   "id": "5b6c87ed",
   "metadata": {},
   "outputs": [],
   "source": [
    "x=df['message']\n",
    "df['label']=df['label'].map({'ham':0,'spam':1})\n",
    "\n",
    "X_train,X_test,y_train,y_test=train_test_split(df['message'],df['label'],test_size=0.25,random_state=42)\n",
    "\n",
    "vectorizer=CountVectorizer()\n",
    "X_train_vec=vectorizer.fit_transform(X_train)\n",
    "X_test_vec=vectorizer.transform(X_test)"
   ]
  },
  {
   "cell_type": "code",
   "execution_count": 38,
   "id": "5442ec11",
   "metadata": {},
   "outputs": [
    {
     "name": "stdout",
     "output_type": "stream",
     "text": [
      "[0 0 0 ... 0 0 0]\n"
     ]
    }
   ],
   "source": [
    "model=LogisticRegression()\n",
    "model.fit(X_train_vec,y_train)\n",
    "\n",
    "y_pred=model.predict(X_test_vec)\n",
    "print(y_pred)\n"
   ]
  },
  {
   "cell_type": "code",
   "execution_count": 39,
   "id": "9333344d",
   "metadata": {},
   "outputs": [
    {
     "name": "stdout",
     "output_type": "stream",
     "text": [
      "\n",
      "Accuracy: 0.98\n",
      "\n",
      "confusion_matrix: \n",
      " [[1207    0]\n",
      " [  21  165]]\n",
      "\n",
      "Classification Report: \n",
      "              precision    recall  f1-score   support\n",
      "\n",
      "           0       0.98      1.00      0.99      1207\n",
      "           1       1.00      0.89      0.94       186\n",
      "\n",
      "    accuracy                           0.98      1393\n",
      "   macro avg       0.99      0.94      0.97      1393\n",
      "weighted avg       0.99      0.98      0.98      1393\n",
      "\n"
     ]
    }
   ],
   "source": [
    "#Accuracy\n",
    "acc=accuracy_score(y_test,y_pred)\n",
    "print(f\"\\nAccuracy: {acc:.2f}\")\n",
    "\n",
    "print(\"\\nconfusion_matrix: \\n\",confusion_matrix(y_test,y_pred))\n",
    "\n",
    "#Detailed classification report \n",
    "print(\"\\nClassification Report: \")\n",
    "print(classification_report(y_test,y_pred))"
   ]
  },
  {
   "cell_type": "code",
   "execution_count": 40,
   "id": "084b49c9",
   "metadata": {},
   "outputs": [
    {
     "name": "stdout",
     "output_type": "stream",
     "text": [
      "\n",
      "New message prediction:  Ham\n"
     ]
    }
   ],
   "source": [
    "new_message=[\"Hot singles in your area! Click to chat instantly.\"]\n",
    "new_message_vec = vectorizer.transform(new_message)\n",
    "prediction=model.predict(new_message_vec)\n",
    "print(\"\\nNew message prediction: \",\"Spam\" if prediction[0]==1 else \"Ham\")"
   ]
  },
  {
   "cell_type": "code",
   "execution_count": 41,
   "id": "3c80a44e",
   "metadata": {},
   "outputs": [
    {
     "name": "stdout",
     "output_type": "stream",
     "text": [
      "\n",
      "New message prediction:  Ham\n"
     ]
    }
   ],
   "source": [
    "new_message=input(\"Enter mail: \")\n",
    "newz_message_vec = vectorizer.transform([new_message]) \n",
    "prediction=model.predict(new_message_vec)\n",
    "print(\"\\nNew message prediction: \",\"Spam\" if prediction[0]==1 else \"Ham\")"
   ]
  },
  {
   "cell_type": "code",
   "execution_count": 42,
   "id": "e002cd33",
   "metadata": {},
   "outputs": [
    {
     "data": {
      "text/plain": [
       "['modelforemailspamdetection.pkl']"
      ]
     },
     "execution_count": 42,
     "metadata": {},
     "output_type": "execute_result"
    }
   ],
   "source": [
    "joblib.dump(model,\"modelforemailspamdetection.pkl\")"
   ]
  },
  {
   "cell_type": "code",
   "execution_count": 43,
   "id": "949af2d4",
   "metadata": {},
   "outputs": [],
   "source": [
    "model=joblib.load(\"modelforemailspamdetection.pkl\")"
   ]
  },
  {
   "cell_type": "code",
   "execution_count": 44,
   "id": "02b7f7ec",
   "metadata": {},
   "outputs": [
    {
     "name": "stdout",
     "output_type": "stream",
     "text": [
      "LogisticRegression()\n"
     ]
    }
   ],
   "source": [
    "print(model)"
   ]
  },
  {
   "cell_type": "code",
   "execution_count": 49,
   "id": "0f58fe95",
   "metadata": {},
   "outputs": [
    {
     "name": "stdout",
     "output_type": "stream",
     "text": [
      "\n",
      "New message prediction:  Ham\n"
     ]
    }
   ],
   "source": [
    "new_message=input(\"Enter mail: \")\n",
    "new_message_vec = vectorizer.transform([new_message]) \n",
    "\n",
    "prediction=model.predict(new_message_vec)\n",
    "print(\"\\nNew message prediction: \",\"Spam\" if prediction[0]==1 else \"Ham\")"
   ]
  },
  {
   "cell_type": "code",
   "execution_count": null,
   "id": "374b1606",
   "metadata": {},
   "outputs": [],
   "source": []
  }
 ],
 "metadata": {
  "kernelspec": {
   "display_name": "venv",
   "language": "python",
   "name": "python3"
  },
  "language_info": {
   "codemirror_mode": {
    "name": "ipython",
    "version": 3
   },
   "file_extension": ".py",
   "mimetype": "text/x-python",
   "name": "python",
   "nbconvert_exporter": "python",
   "pygments_lexer": "ipython3",
   "version": "3.12.1"
  }
 },
 "nbformat": 4,
 "nbformat_minor": 5
}
