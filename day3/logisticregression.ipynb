{
 "cells": [
  {
   "cell_type": "markdown",
   "id": "e0cc1d2b",
   "metadata": {},
   "source": [
    "# Logistic Regression & Model Evaluation\n",
    "Objective: Learn classification, implement Logistic Regression for the Titanic dataset, and understand key evaluation metrics.\n",
    "# Logistic Regression & Model Evaluation\n",
    "\n",
    "## 1. Logistic Regression for Classification\n",
    "\n",
    "While its name has \"regression\", Logistic Regression is a **classification** algorithm. It predicts the probability that an input belongs\n",
    "to a certain class.\n",
    "\n",
    "*   **How it works:** It passes the linear regression output (`w*x + b`) through a **Sigmoid function**, which squashes the value between 0 and 1.\n",
    "*   **Output:** A probability. If the probability > 0.5, we classify it as class 1, otherwise class 0.\n"
   ]
  },
  {
   "cell_type": "markdown",
   "id": "64af826c",
   "metadata": {},
   "source": []
  },
  {
   "cell_type": "markdown",
   "id": "2c830b4e",
   "metadata": {},
   "source": [
    "## 2. Model Evaluation for Classification\n",
    "\n",
    "We can't use MSE for classification. We need different metrics:\n",
    "*   **Confusion Matrix:** A table showing the performance of a classification model.\n",
    "    *   **True Positive (TP):** Correctly predicted positive.\n",
    "    *   **True Negative (TN):** Correctly predicted negative.\n",
    "    *   **False Positive (FP):** Incorrectly predicted positive (Type I error).\n",
    "    *   **False Negative (FN):** Incorrectly predicted negative (Type II error).\n",
    "*   **Accuracy:** `(TP + TN) / (All Predictions)`. Good for balanced datasets.\n",
    "*   **Precision:** `TP / (TP + FP)`. Of all the positive predictions, how many were correct? (Measures \"exactness\").\n",
    "*   **Recall (Sensitivity):** `TP / (TP + FN)`. Of all the actual positives, how many did we find? (Measures \"completeness\").\n",
    "*   **F1-Score:** The harmonic mean of Precision and Recall. `2 * (Precision * Recall) / (Precision + Recall)`. Great for imbalanced datasets."
   ]
  }
 ],
 "metadata": {
  "kernelspec": {
   "display_name": "venv",
   "language": "python",
   "name": "python3"
  },
  "language_info": {
   "codemirror_mode": {
    "name": "ipython",
    "version": 3
   },
   "file_extension": ".py",
   "mimetype": "text/x-python",
   "name": "python",
   "nbconvert_exporter": "python",
   "pygments_lexer": "ipython3",
   "version": "3.12.1"
  }
 },
 "nbformat": 4,
 "nbformat_minor": 5
}
